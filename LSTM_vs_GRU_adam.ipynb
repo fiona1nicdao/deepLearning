{
  "nbformat": 4,
  "nbformat_minor": 0,
  "metadata": {
    "colab": {
      "provenance": [],
      "gpuType": "T4"
    },
    "kernelspec": {
      "name": "python3",
      "display_name": "Python 3"
    },
    "language_info": {
      "name": "python"
    },
    "accelerator": "GPU"
  },
  "cells": [
    {
      "cell_type": "markdown",
      "source": [
        "# Assignment 7 : LSTM vs GRU Performance\n",
        "create LSTM and GRU models and compare their performance in terms of training time and test accuracy using the MNIST dataset\n",
        "\n",
        "Fiona Nicdao\n",
        "COMP 487\n"
      ],
      "metadata": {
        "id": "Gc5wwuSM86Zc"
      }
    },
    {
      "cell_type": "code",
      "source": [
        "import numpy as np\n",
        "import tensorflow as tf\n",
        "import pandas as pd\n",
        "from tensorflow import  keras\n",
        "from sklearn.model_selection import train_test_split\n",
        "import matplotlib.pyplot as plt\n",
        "import time"
      ],
      "metadata": {
        "id": "1r-QSpMT94PT"
      },
      "execution_count": 5,
      "outputs": []
    },
    {
      "cell_type": "markdown",
      "source": [
        "## Processing the MINST Dataset\n",
        "* normalized the data\n",
        "* split the data into 70% training set and 30% testing set"
      ],
      "metadata": {
        "id": "nKY97wVR9s8t"
      }
    },
    {
      "cell_type": "code",
      "execution_count": 6,
      "metadata": {
        "id": "5hvuDbRw80aX",
        "colab": {
          "base_uri": "https://localhost:8080/"
        },
        "outputId": "7524c0f6-f095-4320-95ff-cee38f9ea927"
      },
      "outputs": [
        {
          "output_type": "stream",
          "name": "stdout",
          "text": [
            "(39200, 28, 28)\n",
            "(39200, 10)\n",
            "(21000, 28, 28)\n",
            "(21000, 10)\n",
            "(9800, 28, 28)\n",
            "(9800, 10)\n"
          ]
        }
      ],
      "source": [
        "(x_train, y_train), (x_test, y_test) = tf.keras.datasets.mnist.load_data()\n",
        "\n",
        "# Change the data to be split into 70% training set and 30% testing set\n",
        "x = np.concatenate((x_train, x_test))\n",
        "y = np.concatenate((y_train, y_test))\n",
        "train_size = 0.7\n",
        "x_train, x_test, y_train, y_test = train_test_split(x, y, train_size=train_size,\n",
        "                                                    random_state=42)\n",
        "\n",
        "dev_size = 0.8 * x_train.shape[0]\n",
        "dev_size = int(dev_size)\n",
        "\n",
        "#shuffle the x_train (good practice)\n",
        "#seed for reproducibility\n",
        "indices = np.arange(x_train.shape[0])\n",
        "np.random.shuffle(indices)\n",
        "x_train = x_train[indices]\n",
        "y_train = y_train[indices]\n",
        "\n",
        "# plot the image\n",
        "# plt.imshow(x_train[0], cmap='gray')\n",
        "# plt.show()\n",
        "\n",
        "#dividing the training dataset into 80/20 : training set/ validation set\n",
        "x_val = x_train[dev_size:] #validation sets\n",
        "y_val = y_train[dev_size:]\n",
        "\n",
        "x_train = x_train[:dev_size] #training sets\n",
        "y_train = y_train[:dev_size]\n",
        "\n",
        "#preparing training data\n",
        "x_train = (x_train/255.0)\n",
        "x_val = (x_val/255.0)\n",
        "x_test = (x_test/255.0)\n",
        "\n",
        "#make the classes one-hot encodings\n",
        "y_train = tf.keras.utils.to_categorical(y_train)\n",
        "y_val = tf.keras.utils.to_categorical(y_val)\n",
        "y_test = tf.keras.utils.to_categorical(y_test)\n",
        "\n",
        "print(x_train.shape)\n",
        "print(y_train.shape)\n",
        "print(x_test.shape)\n",
        "print(y_test.shape)\n",
        "print(x_val.shape)\n",
        "print(y_val.shape)"
      ]
    },
    {
      "cell_type": "markdown",
      "source": [
        "## Settings\n",
        "* sequence length = 28\n",
        "* 1 hidden layer with 100 units\n",
        "* SGD optimizer with 0.0001 learning rate\n",
        "* Batch size = 32\n",
        "* number of training epochs = 50\n",
        "* show and compare the training time and testing accuracy for both models"
      ],
      "metadata": {
        "id": "1BX8AMGq-kOq"
      }
    },
    {
      "cell_type": "code",
      "source": [
        "# make a dataframe to compare the accuracy and loss for all the different architecture choices\n",
        "df = pd.DataFrame(columns=[ 'Loss', 'Accuracy','Time'])\n",
        "print(df)"
      ],
      "metadata": {
        "colab": {
          "base_uri": "https://localhost:8080/"
        },
        "id": "s4y9Z2ePfxtK",
        "outputId": "158fd0d0-9f50-462f-fae4-0dd7176ecaad"
      },
      "execution_count": 7,
      "outputs": [
        {
          "output_type": "stream",
          "name": "stdout",
          "text": [
            "Empty DataFrame\n",
            "Columns: [Loss, Accuracy, Time]\n",
            "Index: []\n"
          ]
        }
      ]
    },
    {
      "cell_type": "markdown",
      "source": [
        "## LSMT"
      ],
      "metadata": {
        "id": "R2uT4a31_U0x"
      }
    },
    {
      "cell_type": "code",
      "source": [
        "class LSTM(tf.keras.Model):\n",
        "    def __init__(self, step_size, input_dim, rnn_units, n_layers, n_classes):\n",
        "        # step_size = sequence length\n",
        "        # rnn_units = hidden units\n",
        "        super().__init__()\n",
        "        self.rnn = tf.keras.Sequential()\n",
        "        self.input_shape=(step_size, input_dim)\n",
        "        if n_layers >= 2:\n",
        "          for _ in range(n_layers-1):\n",
        "            self.rnn.add(tf.keras.layers.LSTM(units=rnn_units,\n",
        "                                    return_sequences=True, input_shape=self.input_shape)\n",
        "            )\n",
        "            self.rnn.add(tf.keras.layers.LSTM(units=rnn_units,\n",
        "                                  return_sequences=False))\n",
        "        else:\n",
        "          self.rnn.add(tf.keras.layers.LSTM(units=rnn_units,\n",
        "                                  return_sequences=False, input_shape=self.input_shape ))\n",
        "        self.rnn.add(tf.keras.layers.Dense(units=n_classes, activation='softmax'))\n",
        "\n",
        "    def call(self, x):\n",
        "        for i in self.rnn.layers:\n",
        "          x = i(x)\n",
        "        return x\n",
        "\n",
        "    def build_model(self, input_shape):\n",
        "        x = tf.keras.layers.Input(shape=input_shape)\n",
        "        return tf.keras.Model(inputs=[x], outputs=self.call(x))\n",
        "\n",
        "    def summary(self):\n",
        "        return self.rnn.summary()"
      ],
      "metadata": {
        "id": "NgFc1-Kv_Y4C"
      },
      "execution_count": 33,
      "outputs": []
    },
    {
      "cell_type": "code",
      "source": [
        "lstm = LSTM(28,28,100,1,10)\n",
        "lstm.summary()"
      ],
      "metadata": {
        "colab": {
          "base_uri": "https://localhost:8080/",
          "height": 248
        },
        "id": "o81fmVRmrZLf",
        "outputId": "4a07c77f-3535-448a-942d-0e680e742a82"
      },
      "execution_count": 34,
      "outputs": [
        {
          "output_type": "stream",
          "name": "stderr",
          "text": [
            "/usr/local/lib/python3.11/dist-packages/keras/src/layers/rnn/rnn.py:200: UserWarning: Do not pass an `input_shape`/`input_dim` argument to a layer. When using Sequential models, prefer using an `Input(shape)` object as the first layer in the model instead.\n",
            "  super().__init__(**kwargs)\n"
          ]
        },
        {
          "output_type": "display_data",
          "data": {
            "text/plain": [
              "\u001b[1mModel: \"sequential_8\"\u001b[0m\n"
            ],
            "text/html": [
              "<pre style=\"white-space:pre;overflow-x:auto;line-height:normal;font-family:Menlo,'DejaVu Sans Mono',consolas,'Courier New',monospace\"><span style=\"font-weight: bold\">Model: \"sequential_8\"</span>\n",
              "</pre>\n"
            ]
          },
          "metadata": {}
        },
        {
          "output_type": "display_data",
          "data": {
            "text/plain": [
              "┏━━━━━━━━━━━━━━━━━━━━━━━━━━━━━━━━━━━━━━┳━━━━━━━━━━━━━━━━━━━━━━━━━━━━━┳━━━━━━━━━━━━━━━━━┓\n",
              "┃\u001b[1m \u001b[0m\u001b[1mLayer (type)                        \u001b[0m\u001b[1m \u001b[0m┃\u001b[1m \u001b[0m\u001b[1mOutput Shape               \u001b[0m\u001b[1m \u001b[0m┃\u001b[1m \u001b[0m\u001b[1m        Param #\u001b[0m\u001b[1m \u001b[0m┃\n",
              "┡━━━━━━━━━━━━━━━━━━━━━━━━━━━━━━━━━━━━━━╇━━━━━━━━━━━━━━━━━━━━━━━━━━━━━╇━━━━━━━━━━━━━━━━━┩\n",
              "│ lstm_12 (\u001b[38;5;33mLSTM\u001b[0m)                       │ (\u001b[38;5;45mNone\u001b[0m, \u001b[38;5;34m100\u001b[0m)                 │          \u001b[38;5;34m51,600\u001b[0m │\n",
              "├──────────────────────────────────────┼─────────────────────────────┼─────────────────┤\n",
              "│ dense_6 (\u001b[38;5;33mDense\u001b[0m)                      │ (\u001b[38;5;45mNone\u001b[0m, \u001b[38;5;34m10\u001b[0m)                  │           \u001b[38;5;34m1,010\u001b[0m │\n",
              "└──────────────────────────────────────┴─────────────────────────────┴─────────────────┘\n"
            ],
            "text/html": [
              "<pre style=\"white-space:pre;overflow-x:auto;line-height:normal;font-family:Menlo,'DejaVu Sans Mono',consolas,'Courier New',monospace\">┏━━━━━━━━━━━━━━━━━━━━━━━━━━━━━━━━━━━━━━┳━━━━━━━━━━━━━━━━━━━━━━━━━━━━━┳━━━━━━━━━━━━━━━━━┓\n",
              "┃<span style=\"font-weight: bold\"> Layer (type)                         </span>┃<span style=\"font-weight: bold\"> Output Shape                </span>┃<span style=\"font-weight: bold\">         Param # </span>┃\n",
              "┡━━━━━━━━━━━━━━━━━━━━━━━━━━━━━━━━━━━━━━╇━━━━━━━━━━━━━━━━━━━━━━━━━━━━━╇━━━━━━━━━━━━━━━━━┩\n",
              "│ lstm_12 (<span style=\"color: #0087ff; text-decoration-color: #0087ff\">LSTM</span>)                       │ (<span style=\"color: #00d7ff; text-decoration-color: #00d7ff\">None</span>, <span style=\"color: #00af00; text-decoration-color: #00af00\">100</span>)                 │          <span style=\"color: #00af00; text-decoration-color: #00af00\">51,600</span> │\n",
              "├──────────────────────────────────────┼─────────────────────────────┼─────────────────┤\n",
              "│ dense_6 (<span style=\"color: #0087ff; text-decoration-color: #0087ff\">Dense</span>)                      │ (<span style=\"color: #00d7ff; text-decoration-color: #00d7ff\">None</span>, <span style=\"color: #00af00; text-decoration-color: #00af00\">10</span>)                  │           <span style=\"color: #00af00; text-decoration-color: #00af00\">1,010</span> │\n",
              "└──────────────────────────────────────┴─────────────────────────────┴─────────────────┘\n",
              "</pre>\n"
            ]
          },
          "metadata": {}
        },
        {
          "output_type": "display_data",
          "data": {
            "text/plain": [
              "\u001b[1m Total params: \u001b[0m\u001b[38;5;34m52,610\u001b[0m (205.51 KB)\n"
            ],
            "text/html": [
              "<pre style=\"white-space:pre;overflow-x:auto;line-height:normal;font-family:Menlo,'DejaVu Sans Mono',consolas,'Courier New',monospace\"><span style=\"font-weight: bold\"> Total params: </span><span style=\"color: #00af00; text-decoration-color: #00af00\">52,610</span> (205.51 KB)\n",
              "</pre>\n"
            ]
          },
          "metadata": {}
        },
        {
          "output_type": "display_data",
          "data": {
            "text/plain": [
              "\u001b[1m Trainable params: \u001b[0m\u001b[38;5;34m52,610\u001b[0m (205.51 KB)\n"
            ],
            "text/html": [
              "<pre style=\"white-space:pre;overflow-x:auto;line-height:normal;font-family:Menlo,'DejaVu Sans Mono',consolas,'Courier New',monospace\"><span style=\"font-weight: bold\"> Trainable params: </span><span style=\"color: #00af00; text-decoration-color: #00af00\">52,610</span> (205.51 KB)\n",
              "</pre>\n"
            ]
          },
          "metadata": {}
        },
        {
          "output_type": "display_data",
          "data": {
            "text/plain": [
              "\u001b[1m Non-trainable params: \u001b[0m\u001b[38;5;34m0\u001b[0m (0.00 B)\n"
            ],
            "text/html": [
              "<pre style=\"white-space:pre;overflow-x:auto;line-height:normal;font-family:Menlo,'DejaVu Sans Mono',consolas,'Courier New',monospace\"><span style=\"font-weight: bold\"> Non-trainable params: </span><span style=\"color: #00af00; text-decoration-color: #00af00\">0</span> (0.00 B)\n",
              "</pre>\n"
            ]
          },
          "metadata": {}
        }
      ]
    },
    {
      "cell_type": "markdown",
      "source": [
        "### Runing the LSTM Model"
      ],
      "metadata": {
        "id": "IZH8DPQByecp"
      }
    },
    {
      "cell_type": "code",
      "source": [
        "optim = tf.keras.optimizers.Adam(learning_rate=0.0001)\n",
        "lstm.compile(optimizer=optim, loss='categorical_crossentropy', metrics=['accuracy'])\n",
        "start_time = time.time()\n",
        "lstm.fit(x_train, y_train, epochs=50, batch_size=32, validation_data=(x_val, y_val))\n",
        "end_time = time.time()-start_time"
      ],
      "metadata": {
        "colab": {
          "base_uri": "https://localhost:8080/"
        },
        "id": "52t_ZJZvrcDV",
        "outputId": "c41a4adb-1f0a-463d-967a-8b85c7aaa5ad"
      },
      "execution_count": 35,
      "outputs": [
        {
          "output_type": "stream",
          "name": "stdout",
          "text": [
            "Epoch 1/50\n",
            "\u001b[1m1225/1225\u001b[0m \u001b[32m━━━━━━━━━━━━━━━━━━━━\u001b[0m\u001b[37m\u001b[0m \u001b[1m9s\u001b[0m 6ms/step - accuracy: 0.4337 - loss: 1.6614 - val_accuracy: 0.8268 - val_loss: 0.5746\n",
            "Epoch 2/50\n",
            "\u001b[1m1225/1225\u001b[0m \u001b[32m━━━━━━━━━━━━━━━━━━━━\u001b[0m\u001b[37m\u001b[0m \u001b[1m7s\u001b[0m 5ms/step - accuracy: 0.8536 - loss: 0.4865 - val_accuracy: 0.8998 - val_loss: 0.3439\n",
            "Epoch 3/50\n",
            "\u001b[1m1225/1225\u001b[0m \u001b[32m━━━━━━━━━━━━━━━━━━━━\u001b[0m\u001b[37m\u001b[0m \u001b[1m7s\u001b[0m 6ms/step - accuracy: 0.9080 - loss: 0.3128 - val_accuracy: 0.9237 - val_loss: 0.2571\n",
            "Epoch 4/50\n",
            "\u001b[1m1225/1225\u001b[0m \u001b[32m━━━━━━━━━━━━━━━━━━━━\u001b[0m\u001b[37m\u001b[0m \u001b[1m11s\u001b[0m 6ms/step - accuracy: 0.9280 - loss: 0.2424 - val_accuracy: 0.9307 - val_loss: 0.2334\n",
            "Epoch 5/50\n",
            "\u001b[1m1225/1225\u001b[0m \u001b[32m━━━━━━━━━━━━━━━━━━━━\u001b[0m\u001b[37m\u001b[0m \u001b[1m9s\u001b[0m 5ms/step - accuracy: 0.9396 - loss: 0.2038 - val_accuracy: 0.9340 - val_loss: 0.2196\n",
            "Epoch 6/50\n",
            "\u001b[1m1225/1225\u001b[0m \u001b[32m━━━━━━━━━━━━━━━━━━━━\u001b[0m\u001b[37m\u001b[0m \u001b[1m7s\u001b[0m 6ms/step - accuracy: 0.9488 - loss: 0.1720 - val_accuracy: 0.9433 - val_loss: 0.1852\n",
            "Epoch 7/50\n",
            "\u001b[1m1225/1225\u001b[0m \u001b[32m━━━━━━━━━━━━━━━━━━━━\u001b[0m\u001b[37m\u001b[0m \u001b[1m10s\u001b[0m 6ms/step - accuracy: 0.9537 - loss: 0.1545 - val_accuracy: 0.9456 - val_loss: 0.1771\n",
            "Epoch 8/50\n",
            "\u001b[1m1225/1225\u001b[0m \u001b[32m━━━━━━━━━━━━━━━━━━━━\u001b[0m\u001b[37m\u001b[0m \u001b[1m7s\u001b[0m 5ms/step - accuracy: 0.9576 - loss: 0.1393 - val_accuracy: 0.9497 - val_loss: 0.1615\n",
            "Epoch 9/50\n",
            "\u001b[1m1225/1225\u001b[0m \u001b[32m━━━━━━━━━━━━━━━━━━━━\u001b[0m\u001b[37m\u001b[0m \u001b[1m10s\u001b[0m 5ms/step - accuracy: 0.9611 - loss: 0.1310 - val_accuracy: 0.9565 - val_loss: 0.1436\n",
            "Epoch 10/50\n",
            "\u001b[1m1225/1225\u001b[0m \u001b[32m━━━━━━━━━━━━━━━━━━━━\u001b[0m\u001b[37m\u001b[0m \u001b[1m10s\u001b[0m 5ms/step - accuracy: 0.9651 - loss: 0.1167 - val_accuracy: 0.9594 - val_loss: 0.1363\n",
            "Epoch 11/50\n",
            "\u001b[1m1225/1225\u001b[0m \u001b[32m━━━━━━━━━━━━━━━━━━━━\u001b[0m\u001b[37m\u001b[0m \u001b[1m11s\u001b[0m 6ms/step - accuracy: 0.9667 - loss: 0.1121 - val_accuracy: 0.9579 - val_loss: 0.1377\n",
            "Epoch 12/50\n",
            "\u001b[1m1225/1225\u001b[0m \u001b[32m━━━━━━━━━━━━━━━━━━━━\u001b[0m\u001b[37m\u001b[0m \u001b[1m7s\u001b[0m 6ms/step - accuracy: 0.9686 - loss: 0.1028 - val_accuracy: 0.9613 - val_loss: 0.1260\n",
            "Epoch 13/50\n",
            "\u001b[1m1225/1225\u001b[0m \u001b[32m━━━━━━━━━━━━━━━━━━━━\u001b[0m\u001b[37m\u001b[0m \u001b[1m10s\u001b[0m 5ms/step - accuracy: 0.9700 - loss: 0.0962 - val_accuracy: 0.9578 - val_loss: 0.1401\n",
            "Epoch 14/50\n",
            "\u001b[1m1225/1225\u001b[0m \u001b[32m━━━━━━━━━━━━━━━━━━━━\u001b[0m\u001b[37m\u001b[0m \u001b[1m7s\u001b[0m 6ms/step - accuracy: 0.9727 - loss: 0.0898 - val_accuracy: 0.9628 - val_loss: 0.1216\n",
            "Epoch 15/50\n",
            "\u001b[1m1225/1225\u001b[0m \u001b[32m━━━━━━━━━━━━━━━━━━━━\u001b[0m\u001b[37m\u001b[0m \u001b[1m10s\u001b[0m 6ms/step - accuracy: 0.9740 - loss: 0.0844 - val_accuracy: 0.9633 - val_loss: 0.1197\n",
            "Epoch 16/50\n",
            "\u001b[1m1225/1225\u001b[0m \u001b[32m━━━━━━━━━━━━━━━━━━━━\u001b[0m\u001b[37m\u001b[0m \u001b[1m7s\u001b[0m 5ms/step - accuracy: 0.9767 - loss: 0.0783 - val_accuracy: 0.9671 - val_loss: 0.1094\n",
            "Epoch 17/50\n",
            "\u001b[1m1225/1225\u001b[0m \u001b[32m━━━━━━━━━━━━━━━━━━━━\u001b[0m\u001b[37m\u001b[0m \u001b[1m10s\u001b[0m 6ms/step - accuracy: 0.9783 - loss: 0.0727 - val_accuracy: 0.9669 - val_loss: 0.1145\n",
            "Epoch 18/50\n",
            "\u001b[1m1225/1225\u001b[0m \u001b[32m━━━━━━━━━━━━━━━━━━━━\u001b[0m\u001b[37m\u001b[0m \u001b[1m7s\u001b[0m 6ms/step - accuracy: 0.9792 - loss: 0.0682 - val_accuracy: 0.9658 - val_loss: 0.1092\n",
            "Epoch 19/50\n",
            "\u001b[1m1225/1225\u001b[0m \u001b[32m━━━━━━━━━━━━━━━━━━━━\u001b[0m\u001b[37m\u001b[0m \u001b[1m10s\u001b[0m 6ms/step - accuracy: 0.9796 - loss: 0.0683 - val_accuracy: 0.9660 - val_loss: 0.1090\n",
            "Epoch 20/50\n",
            "\u001b[1m1225/1225\u001b[0m \u001b[32m━━━━━━━━━━━━━━━━━━━━\u001b[0m\u001b[37m\u001b[0m \u001b[1m11s\u001b[0m 7ms/step - accuracy: 0.9815 - loss: 0.0609 - val_accuracy: 0.9662 - val_loss: 0.1097\n",
            "Epoch 21/50\n",
            "\u001b[1m1225/1225\u001b[0m \u001b[32m━━━━━━━━━━━━━━━━━━━━\u001b[0m\u001b[37m\u001b[0m \u001b[1m7s\u001b[0m 5ms/step - accuracy: 0.9835 - loss: 0.0572 - val_accuracy: 0.9705 - val_loss: 0.1001\n",
            "Epoch 22/50\n",
            "\u001b[1m1225/1225\u001b[0m \u001b[32m━━━━━━━━━━━━━━━━━━━━\u001b[0m\u001b[37m\u001b[0m \u001b[1m7s\u001b[0m 6ms/step - accuracy: 0.9845 - loss: 0.0535 - val_accuracy: 0.9677 - val_loss: 0.1044\n",
            "Epoch 23/50\n",
            "\u001b[1m1225/1225\u001b[0m \u001b[32m━━━━━━━━━━━━━━━━━━━━\u001b[0m\u001b[37m\u001b[0m \u001b[1m11s\u001b[0m 6ms/step - accuracy: 0.9836 - loss: 0.0548 - val_accuracy: 0.9709 - val_loss: 0.0952\n",
            "Epoch 24/50\n",
            "\u001b[1m1225/1225\u001b[0m \u001b[32m━━━━━━━━━━━━━━━━━━━━\u001b[0m\u001b[37m\u001b[0m \u001b[1m9s\u001b[0m 5ms/step - accuracy: 0.9851 - loss: 0.0519 - val_accuracy: 0.9706 - val_loss: 0.0986\n",
            "Epoch 25/50\n",
            "\u001b[1m1225/1225\u001b[0m \u001b[32m━━━━━━━━━━━━━━━━━━━━\u001b[0m\u001b[37m\u001b[0m \u001b[1m11s\u001b[0m 5ms/step - accuracy: 0.9846 - loss: 0.0494 - val_accuracy: 0.9735 - val_loss: 0.0935\n",
            "Epoch 26/50\n",
            "\u001b[1m1225/1225\u001b[0m \u001b[32m━━━━━━━━━━━━━━━━━━━━\u001b[0m\u001b[37m\u001b[0m \u001b[1m10s\u001b[0m 5ms/step - accuracy: 0.9862 - loss: 0.0457 - val_accuracy: 0.9734 - val_loss: 0.0924\n",
            "Epoch 27/50\n",
            "\u001b[1m1225/1225\u001b[0m \u001b[32m━━━━━━━━━━━━━━━━━━━━\u001b[0m\u001b[37m\u001b[0m \u001b[1m7s\u001b[0m 6ms/step - accuracy: 0.9858 - loss: 0.0452 - val_accuracy: 0.9743 - val_loss: 0.0857\n",
            "Epoch 28/50\n",
            "\u001b[1m1225/1225\u001b[0m \u001b[32m━━━━━━━━━━━━━━━━━━━━\u001b[0m\u001b[37m\u001b[0m \u001b[1m6s\u001b[0m 5ms/step - accuracy: 0.9875 - loss: 0.0416 - val_accuracy: 0.9722 - val_loss: 0.0907\n",
            "Epoch 29/50\n",
            "\u001b[1m1225/1225\u001b[0m \u001b[32m━━━━━━━━━━━━━━━━━━━━\u001b[0m\u001b[37m\u001b[0m \u001b[1m10s\u001b[0m 5ms/step - accuracy: 0.9880 - loss: 0.0398 - val_accuracy: 0.9738 - val_loss: 0.0890\n",
            "Epoch 30/50\n",
            "\u001b[1m1225/1225\u001b[0m \u001b[32m━━━━━━━━━━━━━━━━━━━━\u001b[0m\u001b[37m\u001b[0m \u001b[1m7s\u001b[0m 6ms/step - accuracy: 0.9877 - loss: 0.0407 - val_accuracy: 0.9718 - val_loss: 0.0968\n",
            "Epoch 31/50\n",
            "\u001b[1m1225/1225\u001b[0m \u001b[32m━━━━━━━━━━━━━━━━━━━━\u001b[0m\u001b[37m\u001b[0m \u001b[1m10s\u001b[0m 6ms/step - accuracy: 0.9897 - loss: 0.0347 - val_accuracy: 0.9738 - val_loss: 0.0875\n",
            "Epoch 32/50\n",
            "\u001b[1m1225/1225\u001b[0m \u001b[32m━━━━━━━━━━━━━━━━━━━━\u001b[0m\u001b[37m\u001b[0m \u001b[1m10s\u001b[0m 5ms/step - accuracy: 0.9899 - loss: 0.0322 - val_accuracy: 0.9739 - val_loss: 0.0864\n",
            "Epoch 33/50\n",
            "\u001b[1m1225/1225\u001b[0m \u001b[32m━━━━━━━━━━━━━━━━━━━━\u001b[0m\u001b[37m\u001b[0m \u001b[1m6s\u001b[0m 5ms/step - accuracy: 0.9900 - loss: 0.0339 - val_accuracy: 0.9746 - val_loss: 0.0843\n",
            "Epoch 34/50\n",
            "\u001b[1m1225/1225\u001b[0m \u001b[32m━━━━━━━━━━━━━━━━━━━━\u001b[0m\u001b[37m\u001b[0m \u001b[1m7s\u001b[0m 6ms/step - accuracy: 0.9905 - loss: 0.0319 - val_accuracy: 0.9749 - val_loss: 0.0832\n",
            "Epoch 35/50\n",
            "\u001b[1m1225/1225\u001b[0m \u001b[32m━━━━━━━━━━━━━━━━━━━━\u001b[0m\u001b[37m\u001b[0m \u001b[1m10s\u001b[0m 5ms/step - accuracy: 0.9913 - loss: 0.0310 - val_accuracy: 0.9743 - val_loss: 0.0907\n",
            "Epoch 36/50\n",
            "\u001b[1m1225/1225\u001b[0m \u001b[32m━━━━━━━━━━━━━━━━━━━━\u001b[0m\u001b[37m\u001b[0m \u001b[1m7s\u001b[0m 5ms/step - accuracy: 0.9912 - loss: 0.0310 - val_accuracy: 0.9770 - val_loss: 0.0809\n",
            "Epoch 37/50\n",
            "\u001b[1m1225/1225\u001b[0m \u001b[32m━━━━━━━━━━━━━━━━━━━━\u001b[0m\u001b[37m\u001b[0m \u001b[1m7s\u001b[0m 6ms/step - accuracy: 0.9908 - loss: 0.0293 - val_accuracy: 0.9767 - val_loss: 0.0841\n",
            "Epoch 38/50\n",
            "\u001b[1m1225/1225\u001b[0m \u001b[32m━━━━━━━━━━━━━━━━━━━━\u001b[0m\u001b[37m\u001b[0m \u001b[1m7s\u001b[0m 5ms/step - accuracy: 0.9916 - loss: 0.0302 - val_accuracy: 0.9756 - val_loss: 0.0844\n",
            "Epoch 39/50\n",
            "\u001b[1m1225/1225\u001b[0m \u001b[32m━━━━━━━━━━━━━━━━━━━━\u001b[0m\u001b[37m\u001b[0m \u001b[1m11s\u001b[0m 6ms/step - accuracy: 0.9923 - loss: 0.0254 - val_accuracy: 0.9762 - val_loss: 0.0837\n",
            "Epoch 40/50\n",
            "\u001b[1m1225/1225\u001b[0m \u001b[32m━━━━━━━━━━━━━━━━━━━━\u001b[0m\u001b[37m\u001b[0m \u001b[1m11s\u001b[0m 6ms/step - accuracy: 0.9925 - loss: 0.0244 - val_accuracy: 0.9756 - val_loss: 0.0869\n",
            "Epoch 41/50\n",
            "\u001b[1m1225/1225\u001b[0m \u001b[32m━━━━━━━━━━━━━━━━━━━━\u001b[0m\u001b[37m\u001b[0m \u001b[1m10s\u001b[0m 6ms/step - accuracy: 0.9939 - loss: 0.0210 - val_accuracy: 0.9764 - val_loss: 0.0848\n",
            "Epoch 42/50\n",
            "\u001b[1m1225/1225\u001b[0m \u001b[32m━━━━━━━━━━━━━━━━━━━━\u001b[0m\u001b[37m\u001b[0m \u001b[1m6s\u001b[0m 5ms/step - accuracy: 0.9936 - loss: 0.0207 - val_accuracy: 0.9763 - val_loss: 0.0829\n",
            "Epoch 43/50\n",
            "\u001b[1m1225/1225\u001b[0m \u001b[32m━━━━━━━━━━━━━━━━━━━━\u001b[0m\u001b[37m\u001b[0m \u001b[1m7s\u001b[0m 6ms/step - accuracy: 0.9936 - loss: 0.0218 - val_accuracy: 0.9765 - val_loss: 0.0811\n",
            "Epoch 44/50\n",
            "\u001b[1m1225/1225\u001b[0m \u001b[32m━━━━━━━━━━━━━━━━━━━━\u001b[0m\u001b[37m\u001b[0m \u001b[1m11s\u001b[0m 6ms/step - accuracy: 0.9944 - loss: 0.0195 - val_accuracy: 0.9785 - val_loss: 0.0781\n",
            "Epoch 45/50\n",
            "\u001b[1m1225/1225\u001b[0m \u001b[32m━━━━━━━━━━━━━━━━━━━━\u001b[0m\u001b[37m\u001b[0m \u001b[1m10s\u001b[0m 5ms/step - accuracy: 0.9946 - loss: 0.0190 - val_accuracy: 0.9766 - val_loss: 0.0883\n",
            "Epoch 46/50\n",
            "\u001b[1m1225/1225\u001b[0m \u001b[32m━━━━━━━━━━━━━━━━━━━━\u001b[0m\u001b[37m\u001b[0m \u001b[1m10s\u001b[0m 5ms/step - accuracy: 0.9947 - loss: 0.0189 - val_accuracy: 0.9762 - val_loss: 0.0836\n",
            "Epoch 47/50\n",
            "\u001b[1m1225/1225\u001b[0m \u001b[32m━━━━━━━━━━━━━━━━━━━━\u001b[0m\u001b[37m\u001b[0m \u001b[1m7s\u001b[0m 6ms/step - accuracy: 0.9950 - loss: 0.0194 - val_accuracy: 0.9768 - val_loss: 0.0878\n",
            "Epoch 48/50\n",
            "\u001b[1m1225/1225\u001b[0m \u001b[32m━━━━━━━━━━━━━━━━━━━━\u001b[0m\u001b[37m\u001b[0m \u001b[1m7s\u001b[0m 5ms/step - accuracy: 0.9948 - loss: 0.0186 - val_accuracy: 0.9777 - val_loss: 0.0864\n",
            "Epoch 49/50\n",
            "\u001b[1m1225/1225\u001b[0m \u001b[32m━━━━━━━━━━━━━━━━━━━━\u001b[0m\u001b[37m\u001b[0m \u001b[1m7s\u001b[0m 5ms/step - accuracy: 0.9954 - loss: 0.0177 - val_accuracy: 0.9755 - val_loss: 0.0888\n",
            "Epoch 50/50\n",
            "\u001b[1m1225/1225\u001b[0m \u001b[32m━━━━━━━━━━━━━━━━━━━━\u001b[0m\u001b[37m\u001b[0m \u001b[1m7s\u001b[0m 6ms/step - accuracy: 0.9952 - loss: 0.0165 - val_accuracy: 0.9785 - val_loss: 0.0813\n"
          ]
        }
      ]
    },
    {
      "cell_type": "code",
      "source": [
        "results = lstm.evaluate(x_test, y_test)"
      ],
      "metadata": {
        "colab": {
          "base_uri": "https://localhost:8080/"
        },
        "id": "M77eBqrDtnDh",
        "outputId": "a6c19aa0-4172-4882-d599-b25dc38bc083"
      },
      "execution_count": 36,
      "outputs": [
        {
          "output_type": "stream",
          "name": "stdout",
          "text": [
            "\u001b[1m657/657\u001b[0m \u001b[32m━━━━━━━━━━━━━━━━━━━━\u001b[0m\u001b[37m\u001b[0m \u001b[1m2s\u001b[0m 4ms/step - accuracy: 0.9784 - loss: 0.0737\n"
          ]
        }
      ]
    },
    {
      "cell_type": "code",
      "source": [
        "df.loc[0] = [results[0], results[1], end_time]\n",
        "print(df)"
      ],
      "metadata": {
        "colab": {
          "base_uri": "https://localhost:8080/"
        },
        "id": "Tc6WKEFjt4o3",
        "outputId": "61e48b82-0ace-4567-f152-1c907de10b5b"
      },
      "execution_count": 37,
      "outputs": [
        {
          "output_type": "stream",
          "name": "stdout",
          "text": [
            "       Loss  Accuracy        Time\n",
            "0  0.072440  0.980190  431.507013\n",
            "1  2.076673  0.308905  407.775287\n"
          ]
        }
      ]
    },
    {
      "cell_type": "markdown",
      "source": [
        "## GRU"
      ],
      "metadata": {
        "id": "DbXz26kE_Zhg"
      }
    },
    {
      "cell_type": "code",
      "source": [
        "class GRU(tf.keras.Model):\n",
        "    def __init__(self, step_size, input_dim, rnn_units, n_layers, n_classes):\n",
        "        super().__init__()\n",
        "        self.rnn = tf.keras.Sequential()\n",
        "        self.input_shape=(step_size, input_dim)\n",
        "        if n_layers >= 2:\n",
        "          for _ in range(n_layers-1):\n",
        "              self.rnn.add(tf.keras.layers.GRU(units=rnn_units,\n",
        "                                      return_sequences=True, input_shape=self.input_shape)\n",
        "              )\n",
        "              self.rnn.add(tf.keras.layers.GRU(units=rnn_units,\n",
        "                                    return_sequences=False))\n",
        "        else :\n",
        "          self.rnn.add(tf.keras.layers.GRU(units=rnn_units,\n",
        "                                  return_sequences=False, input_shape=self.input_shape ))\n",
        "        self.rnn.add(tf.keras.layers.Dense(units=n_classes, activation='softmax'))\n",
        "\n",
        "    def call(self, x):\n",
        "\n",
        "        for i in self.rnn.layers:\n",
        "          x = i(x)\n",
        "\n",
        "        return x\n",
        "\n",
        "    def build_model(self, input_shape):\n",
        "        x = tf.keras.layers.Input(shape=input_shape)\n",
        "        return tf.keras.Model(inputs=[x], outputs=self.call(x))\n",
        "\n",
        "    def summary(self):\n",
        "        return self.rnn.summary()\n"
      ],
      "metadata": {
        "id": "Z1lLasl__eZa"
      },
      "execution_count": 38,
      "outputs": []
    },
    {
      "cell_type": "code",
      "source": [
        "gru = GRU(28, 28, 100, 1, 10)\n",
        "gru.summary()"
      ],
      "metadata": {
        "colab": {
          "base_uri": "https://localhost:8080/",
          "height": 248
        },
        "id": "llXMU7_MsViR",
        "outputId": "391ff3b2-8f37-481d-b544-0969c8aade7a"
      },
      "execution_count": 39,
      "outputs": [
        {
          "output_type": "stream",
          "name": "stderr",
          "text": [
            "/usr/local/lib/python3.11/dist-packages/keras/src/layers/rnn/rnn.py:200: UserWarning: Do not pass an `input_shape`/`input_dim` argument to a layer. When using Sequential models, prefer using an `Input(shape)` object as the first layer in the model instead.\n",
            "  super().__init__(**kwargs)\n"
          ]
        },
        {
          "output_type": "display_data",
          "data": {
            "text/plain": [
              "\u001b[1mModel: \"sequential_9\"\u001b[0m\n"
            ],
            "text/html": [
              "<pre style=\"white-space:pre;overflow-x:auto;line-height:normal;font-family:Menlo,'DejaVu Sans Mono',consolas,'Courier New',monospace\"><span style=\"font-weight: bold\">Model: \"sequential_9\"</span>\n",
              "</pre>\n"
            ]
          },
          "metadata": {}
        },
        {
          "output_type": "display_data",
          "data": {
            "text/plain": [
              "┏━━━━━━━━━━━━━━━━━━━━━━━━━━━━━━━━━━━━━━┳━━━━━━━━━━━━━━━━━━━━━━━━━━━━━┳━━━━━━━━━━━━━━━━━┓\n",
              "┃\u001b[1m \u001b[0m\u001b[1mLayer (type)                        \u001b[0m\u001b[1m \u001b[0m┃\u001b[1m \u001b[0m\u001b[1mOutput Shape               \u001b[0m\u001b[1m \u001b[0m┃\u001b[1m \u001b[0m\u001b[1m        Param #\u001b[0m\u001b[1m \u001b[0m┃\n",
              "┡━━━━━━━━━━━━━━━━━━━━━━━━━━━━━━━━━━━━━━╇━━━━━━━━━━━━━━━━━━━━━━━━━━━━━╇━━━━━━━━━━━━━━━━━┩\n",
              "│ gru_5 (\u001b[38;5;33mGRU\u001b[0m)                          │ (\u001b[38;5;45mNone\u001b[0m, \u001b[38;5;34m100\u001b[0m)                 │          \u001b[38;5;34m39,000\u001b[0m │\n",
              "├──────────────────────────────────────┼─────────────────────────────┼─────────────────┤\n",
              "│ dense_7 (\u001b[38;5;33mDense\u001b[0m)                      │ (\u001b[38;5;45mNone\u001b[0m, \u001b[38;5;34m10\u001b[0m)                  │           \u001b[38;5;34m1,010\u001b[0m │\n",
              "└──────────────────────────────────────┴─────────────────────────────┴─────────────────┘\n"
            ],
            "text/html": [
              "<pre style=\"white-space:pre;overflow-x:auto;line-height:normal;font-family:Menlo,'DejaVu Sans Mono',consolas,'Courier New',monospace\">┏━━━━━━━━━━━━━━━━━━━━━━━━━━━━━━━━━━━━━━┳━━━━━━━━━━━━━━━━━━━━━━━━━━━━━┳━━━━━━━━━━━━━━━━━┓\n",
              "┃<span style=\"font-weight: bold\"> Layer (type)                         </span>┃<span style=\"font-weight: bold\"> Output Shape                </span>┃<span style=\"font-weight: bold\">         Param # </span>┃\n",
              "┡━━━━━━━━━━━━━━━━━━━━━━━━━━━━━━━━━━━━━━╇━━━━━━━━━━━━━━━━━━━━━━━━━━━━━╇━━━━━━━━━━━━━━━━━┩\n",
              "│ gru_5 (<span style=\"color: #0087ff; text-decoration-color: #0087ff\">GRU</span>)                          │ (<span style=\"color: #00d7ff; text-decoration-color: #00d7ff\">None</span>, <span style=\"color: #00af00; text-decoration-color: #00af00\">100</span>)                 │          <span style=\"color: #00af00; text-decoration-color: #00af00\">39,000</span> │\n",
              "├──────────────────────────────────────┼─────────────────────────────┼─────────────────┤\n",
              "│ dense_7 (<span style=\"color: #0087ff; text-decoration-color: #0087ff\">Dense</span>)                      │ (<span style=\"color: #00d7ff; text-decoration-color: #00d7ff\">None</span>, <span style=\"color: #00af00; text-decoration-color: #00af00\">10</span>)                  │           <span style=\"color: #00af00; text-decoration-color: #00af00\">1,010</span> │\n",
              "└──────────────────────────────────────┴─────────────────────────────┴─────────────────┘\n",
              "</pre>\n"
            ]
          },
          "metadata": {}
        },
        {
          "output_type": "display_data",
          "data": {
            "text/plain": [
              "\u001b[1m Total params: \u001b[0m\u001b[38;5;34m40,010\u001b[0m (156.29 KB)\n"
            ],
            "text/html": [
              "<pre style=\"white-space:pre;overflow-x:auto;line-height:normal;font-family:Menlo,'DejaVu Sans Mono',consolas,'Courier New',monospace\"><span style=\"font-weight: bold\"> Total params: </span><span style=\"color: #00af00; text-decoration-color: #00af00\">40,010</span> (156.29 KB)\n",
              "</pre>\n"
            ]
          },
          "metadata": {}
        },
        {
          "output_type": "display_data",
          "data": {
            "text/plain": [
              "\u001b[1m Trainable params: \u001b[0m\u001b[38;5;34m40,010\u001b[0m (156.29 KB)\n"
            ],
            "text/html": [
              "<pre style=\"white-space:pre;overflow-x:auto;line-height:normal;font-family:Menlo,'DejaVu Sans Mono',consolas,'Courier New',monospace\"><span style=\"font-weight: bold\"> Trainable params: </span><span style=\"color: #00af00; text-decoration-color: #00af00\">40,010</span> (156.29 KB)\n",
              "</pre>\n"
            ]
          },
          "metadata": {}
        },
        {
          "output_type": "display_data",
          "data": {
            "text/plain": [
              "\u001b[1m Non-trainable params: \u001b[0m\u001b[38;5;34m0\u001b[0m (0.00 B)\n"
            ],
            "text/html": [
              "<pre style=\"white-space:pre;overflow-x:auto;line-height:normal;font-family:Menlo,'DejaVu Sans Mono',consolas,'Courier New',monospace\"><span style=\"font-weight: bold\"> Non-trainable params: </span><span style=\"color: #00af00; text-decoration-color: #00af00\">0</span> (0.00 B)\n",
              "</pre>\n"
            ]
          },
          "metadata": {}
        }
      ]
    },
    {
      "cell_type": "code",
      "source": [
        "optim = tf.keras.optimizers.Adam(learning_rate=0.0001)\n",
        "gru.compile(optimizer=optim, loss='categorical_crossentropy', metrics=['accuracy'])\n",
        "start_time = time.time()\n",
        "gru.fit(x_train, y_train, epochs=50, batch_size=32, validation_data=(x_val, y_val))\n",
        "end_time = time.time()-start_time"
      ],
      "metadata": {
        "colab": {
          "base_uri": "https://localhost:8080/"
        },
        "id": "qpUFYJWTsWbj",
        "outputId": "9c192dd4-b13f-4207-ba91-e437c35c6837"
      },
      "execution_count": 42,
      "outputs": [
        {
          "output_type": "stream",
          "name": "stdout",
          "text": [
            "Epoch 1/50\n",
            "\u001b[1m1225/1225\u001b[0m \u001b[32m━━━━━━━━━━━━━━━━━━━━\u001b[0m\u001b[37m\u001b[0m \u001b[1m8s\u001b[0m 6ms/step - accuracy: 0.7669 - loss: 0.7071 - val_accuracy: 0.8345 - val_loss: 0.5347\n",
            "Epoch 2/50\n",
            "\u001b[1m1225/1225\u001b[0m \u001b[32m━━━━━━━━━━━━━━━━━━━━\u001b[0m\u001b[37m\u001b[0m \u001b[1m6s\u001b[0m 5ms/step - accuracy: 0.8505 - loss: 0.4835 - val_accuracy: 0.8847 - val_loss: 0.4046\n",
            "Epoch 3/50\n",
            "\u001b[1m1225/1225\u001b[0m \u001b[32m━━━━━━━━━━━━━━━━━━━━\u001b[0m\u001b[37m\u001b[0m \u001b[1m7s\u001b[0m 6ms/step - accuracy: 0.8897 - loss: 0.3665 - val_accuracy: 0.9036 - val_loss: 0.3287\n",
            "Epoch 4/50\n",
            "\u001b[1m1225/1225\u001b[0m \u001b[32m━━━━━━━━━━━━━━━━━━━━\u001b[0m\u001b[37m\u001b[0m \u001b[1m10s\u001b[0m 6ms/step - accuracy: 0.9126 - loss: 0.2954 - val_accuracy: 0.9181 - val_loss: 0.2791\n",
            "Epoch 5/50\n",
            "\u001b[1m1225/1225\u001b[0m \u001b[32m━━━━━━━━━━━━━━━━━━━━\u001b[0m\u001b[37m\u001b[0m \u001b[1m10s\u001b[0m 6ms/step - accuracy: 0.9234 - loss: 0.2560 - val_accuracy: 0.9277 - val_loss: 0.2447\n",
            "Epoch 6/50\n",
            "\u001b[1m1225/1225\u001b[0m \u001b[32m━━━━━━━━━━━━━━━━━━━━\u001b[0m\u001b[37m\u001b[0m \u001b[1m6s\u001b[0m 5ms/step - accuracy: 0.9346 - loss: 0.2201 - val_accuracy: 0.9343 - val_loss: 0.2198\n",
            "Epoch 7/50\n",
            "\u001b[1m1225/1225\u001b[0m \u001b[32m━━━━━━━━━━━━━━━━━━━━\u001b[0m\u001b[37m\u001b[0m \u001b[1m7s\u001b[0m 6ms/step - accuracy: 0.9429 - loss: 0.1916 - val_accuracy: 0.9401 - val_loss: 0.1980\n",
            "Epoch 8/50\n",
            "\u001b[1m1225/1225\u001b[0m \u001b[32m━━━━━━━━━━━━━━━━━━━━\u001b[0m\u001b[37m\u001b[0m \u001b[1m6s\u001b[0m 5ms/step - accuracy: 0.9475 - loss: 0.1767 - val_accuracy: 0.9454 - val_loss: 0.1768\n",
            "Epoch 9/50\n",
            "\u001b[1m1225/1225\u001b[0m \u001b[32m━━━━━━━━━━━━━━━━━━━━\u001b[0m\u001b[37m\u001b[0m \u001b[1m7s\u001b[0m 5ms/step - accuracy: 0.9508 - loss: 0.1600 - val_accuracy: 0.9493 - val_loss: 0.1669\n",
            "Epoch 10/50\n",
            "\u001b[1m1225/1225\u001b[0m \u001b[32m━━━━━━━━━━━━━━━━━━━━\u001b[0m\u001b[37m\u001b[0m \u001b[1m11s\u001b[0m 6ms/step - accuracy: 0.9548 - loss: 0.1509 - val_accuracy: 0.9511 - val_loss: 0.1583\n",
            "Epoch 11/50\n",
            "\u001b[1m1225/1225\u001b[0m \u001b[32m━━━━━━━━━━━━━━━━━━━━\u001b[0m\u001b[37m\u001b[0m \u001b[1m10s\u001b[0m 5ms/step - accuracy: 0.9572 - loss: 0.1434 - val_accuracy: 0.9561 - val_loss: 0.1422\n",
            "Epoch 12/50\n",
            "\u001b[1m1225/1225\u001b[0m \u001b[32m━━━━━━━━━━━━━━━━━━━━\u001b[0m\u001b[37m\u001b[0m \u001b[1m7s\u001b[0m 5ms/step - accuracy: 0.9612 - loss: 0.1279 - val_accuracy: 0.9598 - val_loss: 0.1340\n",
            "Epoch 13/50\n",
            "\u001b[1m1225/1225\u001b[0m \u001b[32m━━━━━━━━━━━━━━━━━━━━\u001b[0m\u001b[37m\u001b[0m \u001b[1m10s\u001b[0m 6ms/step - accuracy: 0.9635 - loss: 0.1190 - val_accuracy: 0.9606 - val_loss: 0.1307\n",
            "Epoch 14/50\n",
            "\u001b[1m1225/1225\u001b[0m \u001b[32m━━━━━━━━━━━━━━━━━━━━\u001b[0m\u001b[37m\u001b[0m \u001b[1m10s\u001b[0m 5ms/step - accuracy: 0.9644 - loss: 0.1152 - val_accuracy: 0.9629 - val_loss: 0.1214\n",
            "Epoch 15/50\n",
            "\u001b[1m1225/1225\u001b[0m \u001b[32m━━━━━━━━━━━━━━━━━━━━\u001b[0m\u001b[37m\u001b[0m \u001b[1m6s\u001b[0m 5ms/step - accuracy: 0.9686 - loss: 0.1065 - val_accuracy: 0.9638 - val_loss: 0.1190\n",
            "Epoch 16/50\n",
            "\u001b[1m1225/1225\u001b[0m \u001b[32m━━━━━━━━━━━━━━━━━━━━\u001b[0m\u001b[37m\u001b[0m \u001b[1m7s\u001b[0m 5ms/step - accuracy: 0.9710 - loss: 0.0973 - val_accuracy: 0.9664 - val_loss: 0.1088\n",
            "Epoch 17/50\n",
            "\u001b[1m1225/1225\u001b[0m \u001b[32m━━━━━━━━━━━━━━━━━━━━\u001b[0m\u001b[37m\u001b[0m \u001b[1m10s\u001b[0m 6ms/step - accuracy: 0.9707 - loss: 0.0976 - val_accuracy: 0.9666 - val_loss: 0.1085\n",
            "Epoch 18/50\n",
            "\u001b[1m1225/1225\u001b[0m \u001b[32m━━━━━━━━━━━━━━━━━━━━\u001b[0m\u001b[37m\u001b[0m \u001b[1m10s\u001b[0m 5ms/step - accuracy: 0.9732 - loss: 0.0893 - val_accuracy: 0.9680 - val_loss: 0.1016\n",
            "Epoch 19/50\n",
            "\u001b[1m1225/1225\u001b[0m \u001b[32m━━━━━━━━━━━━━━━━━━━━\u001b[0m\u001b[37m\u001b[0m \u001b[1m10s\u001b[0m 5ms/step - accuracy: 0.9739 - loss: 0.0886 - val_accuracy: 0.9670 - val_loss: 0.1061\n",
            "Epoch 20/50\n",
            "\u001b[1m1225/1225\u001b[0m \u001b[32m━━━━━━━━━━━━━━━━━━━━\u001b[0m\u001b[37m\u001b[0m \u001b[1m7s\u001b[0m 6ms/step - accuracy: 0.9758 - loss: 0.0821 - val_accuracy: 0.9690 - val_loss: 0.0994\n",
            "Epoch 21/50\n",
            "\u001b[1m1225/1225\u001b[0m \u001b[32m━━━━━━━━━━━━━━━━━━━━\u001b[0m\u001b[37m\u001b[0m \u001b[1m10s\u001b[0m 5ms/step - accuracy: 0.9756 - loss: 0.0819 - val_accuracy: 0.9701 - val_loss: 0.0944\n",
            "Epoch 22/50\n",
            "\u001b[1m1225/1225\u001b[0m \u001b[32m━━━━━━━━━━━━━━━━━━━━\u001b[0m\u001b[37m\u001b[0m \u001b[1m10s\u001b[0m 5ms/step - accuracy: 0.9765 - loss: 0.0790 - val_accuracy: 0.9700 - val_loss: 0.0972\n",
            "Epoch 23/50\n",
            "\u001b[1m1225/1225\u001b[0m \u001b[32m━━━━━━━━━━━━━━━━━━━━\u001b[0m\u001b[37m\u001b[0m \u001b[1m10s\u001b[0m 5ms/step - accuracy: 0.9770 - loss: 0.0757 - val_accuracy: 0.9656 - val_loss: 0.1081\n",
            "Epoch 24/50\n",
            "\u001b[1m1225/1225\u001b[0m \u001b[32m━━━━━━━━━━━━━━━━━━━━\u001b[0m\u001b[37m\u001b[0m \u001b[1m10s\u001b[0m 5ms/step - accuracy: 0.9790 - loss: 0.0698 - val_accuracy: 0.9726 - val_loss: 0.0893\n",
            "Epoch 25/50\n",
            "\u001b[1m1225/1225\u001b[0m \u001b[32m━━━━━━━━━━━━━━━━━━━━\u001b[0m\u001b[37m\u001b[0m \u001b[1m11s\u001b[0m 5ms/step - accuracy: 0.9788 - loss: 0.0694 - val_accuracy: 0.9734 - val_loss: 0.0884\n",
            "Epoch 26/50\n",
            "\u001b[1m1225/1225\u001b[0m \u001b[32m━━━━━━━━━━━━━━━━━━━━\u001b[0m\u001b[37m\u001b[0m \u001b[1m10s\u001b[0m 5ms/step - accuracy: 0.9808 - loss: 0.0650 - val_accuracy: 0.9721 - val_loss: 0.0879\n",
            "Epoch 27/50\n",
            "\u001b[1m1225/1225\u001b[0m \u001b[32m━━━━━━━━━━━━━━━━━━━━\u001b[0m\u001b[37m\u001b[0m \u001b[1m7s\u001b[0m 5ms/step - accuracy: 0.9819 - loss: 0.0592 - val_accuracy: 0.9734 - val_loss: 0.0869\n",
            "Epoch 28/50\n",
            "\u001b[1m1225/1225\u001b[0m \u001b[32m━━━━━━━━━━━━━━━━━━━━\u001b[0m\u001b[37m\u001b[0m \u001b[1m6s\u001b[0m 5ms/step - accuracy: 0.9814 - loss: 0.0624 - val_accuracy: 0.9755 - val_loss: 0.0800\n",
            "Epoch 29/50\n",
            "\u001b[1m1225/1225\u001b[0m \u001b[32m━━━━━━━━━━━━━━━━━━━━\u001b[0m\u001b[37m\u001b[0m \u001b[1m10s\u001b[0m 5ms/step - accuracy: 0.9821 - loss: 0.0581 - val_accuracy: 0.9732 - val_loss: 0.0854\n",
            "Epoch 30/50\n",
            "\u001b[1m1225/1225\u001b[0m \u001b[32m━━━━━━━━━━━━━━━━━━━━\u001b[0m\u001b[37m\u001b[0m \u001b[1m7s\u001b[0m 6ms/step - accuracy: 0.9830 - loss: 0.0556 - val_accuracy: 0.9759 - val_loss: 0.0780\n",
            "Epoch 31/50\n",
            "\u001b[1m1225/1225\u001b[0m \u001b[32m━━━━━━━━━━━━━━━━━━━━\u001b[0m\u001b[37m\u001b[0m \u001b[1m10s\u001b[0m 5ms/step - accuracy: 0.9834 - loss: 0.0565 - val_accuracy: 0.9752 - val_loss: 0.0817\n",
            "Epoch 32/50\n",
            "\u001b[1m1225/1225\u001b[0m \u001b[32m━━━━━━━━━━━━━━━━━━━━\u001b[0m\u001b[37m\u001b[0m \u001b[1m6s\u001b[0m 5ms/step - accuracy: 0.9835 - loss: 0.0552 - val_accuracy: 0.9758 - val_loss: 0.0793\n",
            "Epoch 33/50\n",
            "\u001b[1m1225/1225\u001b[0m \u001b[32m━━━━━━━━━━━━━━━━━━━━\u001b[0m\u001b[37m\u001b[0m \u001b[1m6s\u001b[0m 5ms/step - accuracy: 0.9858 - loss: 0.0468 - val_accuracy: 0.9767 - val_loss: 0.0774\n",
            "Epoch 34/50\n",
            "\u001b[1m1225/1225\u001b[0m \u001b[32m━━━━━━━━━━━━━━━━━━━━\u001b[0m\u001b[37m\u001b[0m \u001b[1m10s\u001b[0m 5ms/step - accuracy: 0.9854 - loss: 0.0489 - val_accuracy: 0.9762 - val_loss: 0.0793\n",
            "Epoch 35/50\n",
            "\u001b[1m1225/1225\u001b[0m \u001b[32m━━━━━━━━━━━━━━━━━━━━\u001b[0m\u001b[37m\u001b[0m \u001b[1m10s\u001b[0m 5ms/step - accuracy: 0.9873 - loss: 0.0446 - val_accuracy: 0.9778 - val_loss: 0.0732\n",
            "Epoch 36/50\n",
            "\u001b[1m1225/1225\u001b[0m \u001b[32m━━━━━━━━━━━━━━━━━━━━\u001b[0m\u001b[37m\u001b[0m \u001b[1m11s\u001b[0m 5ms/step - accuracy: 0.9859 - loss: 0.0454 - val_accuracy: 0.9757 - val_loss: 0.0805\n",
            "Epoch 37/50\n",
            "\u001b[1m1225/1225\u001b[0m \u001b[32m━━━━━━━━━━━━━━━━━━━━\u001b[0m\u001b[37m\u001b[0m \u001b[1m10s\u001b[0m 5ms/step - accuracy: 0.9875 - loss: 0.0416 - val_accuracy: 0.9760 - val_loss: 0.0797\n",
            "Epoch 38/50\n",
            "\u001b[1m1225/1225\u001b[0m \u001b[32m━━━━━━━━━━━━━━━━━━━━\u001b[0m\u001b[37m\u001b[0m \u001b[1m7s\u001b[0m 5ms/step - accuracy: 0.9880 - loss: 0.0419 - val_accuracy: 0.9796 - val_loss: 0.0722\n",
            "Epoch 39/50\n",
            "\u001b[1m1225/1225\u001b[0m \u001b[32m━━━━━━━━━━━━━━━━━━━━\u001b[0m\u001b[37m\u001b[0m \u001b[1m6s\u001b[0m 5ms/step - accuracy: 0.9879 - loss: 0.0416 - val_accuracy: 0.9763 - val_loss: 0.0799\n",
            "Epoch 40/50\n",
            "\u001b[1m1225/1225\u001b[0m \u001b[32m━━━━━━━━━━━━━━━━━━━━\u001b[0m\u001b[37m\u001b[0m \u001b[1m11s\u001b[0m 5ms/step - accuracy: 0.9892 - loss: 0.0365 - val_accuracy: 0.9772 - val_loss: 0.0778\n",
            "Epoch 41/50\n",
            "\u001b[1m1225/1225\u001b[0m \u001b[32m━━━━━━━━━━━━━━━━━━━━\u001b[0m\u001b[37m\u001b[0m \u001b[1m7s\u001b[0m 6ms/step - accuracy: 0.9884 - loss: 0.0373 - val_accuracy: 0.9785 - val_loss: 0.0702\n",
            "Epoch 42/50\n",
            "\u001b[1m1225/1225\u001b[0m \u001b[32m━━━━━━━━━━━━━━━━━━━━\u001b[0m\u001b[37m\u001b[0m \u001b[1m10s\u001b[0m 5ms/step - accuracy: 0.9888 - loss: 0.0354 - val_accuracy: 0.9799 - val_loss: 0.0671\n",
            "Epoch 43/50\n",
            "\u001b[1m1225/1225\u001b[0m \u001b[32m━━━━━━━━━━━━━━━━━━━━\u001b[0m\u001b[37m\u001b[0m \u001b[1m10s\u001b[0m 5ms/step - accuracy: 0.9895 - loss: 0.0345 - val_accuracy: 0.9800 - val_loss: 0.0663\n",
            "Epoch 44/50\n",
            "\u001b[1m1225/1225\u001b[0m \u001b[32m━━━━━━━━━━━━━━━━━━━━\u001b[0m\u001b[37m\u001b[0m \u001b[1m7s\u001b[0m 5ms/step - accuracy: 0.9897 - loss: 0.0342 - val_accuracy: 0.9785 - val_loss: 0.0739\n",
            "Epoch 45/50\n",
            "\u001b[1m1225/1225\u001b[0m \u001b[32m━━━━━━━━━━━━━━━━━━━━\u001b[0m\u001b[37m\u001b[0m \u001b[1m10s\u001b[0m 5ms/step - accuracy: 0.9899 - loss: 0.0313 - val_accuracy: 0.9778 - val_loss: 0.0761\n",
            "Epoch 46/50\n",
            "\u001b[1m1225/1225\u001b[0m \u001b[32m━━━━━━━━━━━━━━━━━━━━\u001b[0m\u001b[37m\u001b[0m \u001b[1m10s\u001b[0m 5ms/step - accuracy: 0.9897 - loss: 0.0351 - val_accuracy: 0.9794 - val_loss: 0.0740\n",
            "Epoch 47/50\n",
            "\u001b[1m1225/1225\u001b[0m \u001b[32m━━━━━━━━━━━━━━━━━━━━\u001b[0m\u001b[37m\u001b[0m \u001b[1m6s\u001b[0m 5ms/step - accuracy: 0.9905 - loss: 0.0314 - val_accuracy: 0.9799 - val_loss: 0.0710\n",
            "Epoch 48/50\n",
            "\u001b[1m1225/1225\u001b[0m \u001b[32m━━━━━━━━━━━━━━━━━━━━\u001b[0m\u001b[37m\u001b[0m \u001b[1m11s\u001b[0m 6ms/step - accuracy: 0.9913 - loss: 0.0278 - val_accuracy: 0.9806 - val_loss: 0.0685\n",
            "Epoch 49/50\n",
            "\u001b[1m1225/1225\u001b[0m \u001b[32m━━━━━━━━━━━━━━━━━━━━\u001b[0m\u001b[37m\u001b[0m \u001b[1m7s\u001b[0m 5ms/step - accuracy: 0.9926 - loss: 0.0267 - val_accuracy: 0.9805 - val_loss: 0.0678\n",
            "Epoch 50/50\n",
            "\u001b[1m1225/1225\u001b[0m \u001b[32m━━━━━━━━━━━━━━━━━━━━\u001b[0m\u001b[37m\u001b[0m \u001b[1m10s\u001b[0m 5ms/step - accuracy: 0.9924 - loss: 0.0260 - val_accuracy: 0.9750 - val_loss: 0.0868\n"
          ]
        }
      ]
    },
    {
      "cell_type": "code",
      "source": [
        "results = lstm.evaluate(x_test, y_test)"
      ],
      "metadata": {
        "colab": {
          "base_uri": "https://localhost:8080/"
        },
        "id": "DiSW7i0-x81I",
        "outputId": "27c4b1a0-113d-45cb-8af6-50b435328a90"
      },
      "execution_count": 43,
      "outputs": [
        {
          "output_type": "stream",
          "name": "stdout",
          "text": [
            "\u001b[1m657/657\u001b[0m \u001b[32m━━━━━━━━━━━━━━━━━━━━\u001b[0m\u001b[37m\u001b[0m \u001b[1m2s\u001b[0m 4ms/step - accuracy: 0.9784 - loss: 0.0737\n"
          ]
        }
      ]
    },
    {
      "cell_type": "code",
      "source": [
        "df.loc[1] = [results[0], results[1], end_time]\n",
        "print(df)"
      ],
      "metadata": {
        "colab": {
          "base_uri": "https://localhost:8080/"
        },
        "id": "V7FuaLPix-9X",
        "outputId": "766680fa-cbeb-4342-e610-27dc9a50ef1e"
      },
      "execution_count": 45,
      "outputs": [
        {
          "output_type": "stream",
          "name": "stdout",
          "text": [
            "      Loss  Accuracy        Time\n",
            "0  0.07244   0.98019  431.507013\n",
            "1  0.07244   0.98019  430.053378\n"
          ]
        }
      ]
    },
    {
      "cell_type": "markdown",
      "source": [
        "# Results : low accuracy for both LSTM and GRU and similary accuracy, loss and time. Using SGD"
      ],
      "metadata": {
        "id": "1VKKrGrw8hcu"
      }
    },
    {
      "cell_type": "code",
      "source": [
        "print(df)"
      ],
      "metadata": {
        "colab": {
          "base_uri": "https://localhost:8080/"
        },
        "id": "JdC47hCa8g_T",
        "outputId": "3d847851-c919-40f3-9cdb-5adb8be006d1"
      },
      "execution_count": 32,
      "outputs": [
        {
          "output_type": "stream",
          "name": "stdout",
          "text": [
            "       Loss  Accuracy        Time\n",
            "0  2.035379  0.295810  425.732425\n",
            "1  2.076673  0.308905  407.775287\n"
          ]
        }
      ]
    },
    {
      "cell_type": "markdown",
      "source": [
        "# using Adam"
      ],
      "metadata": {
        "id": "rrp343oCA644"
      }
    },
    {
      "cell_type": "code",
      "source": [
        "print(df)"
      ],
      "metadata": {
        "colab": {
          "base_uri": "https://localhost:8080/"
        },
        "id": "7WbTNOi1A51_",
        "outputId": "ab00ffd8-7e8d-468a-cc94-aa2f676f7ca0"
      },
      "execution_count": 46,
      "outputs": [
        {
          "output_type": "stream",
          "name": "stdout",
          "text": [
            "      Loss  Accuracy        Time\n",
            "0  0.07244   0.98019  431.507013\n",
            "1  0.07244   0.98019  430.053378\n"
          ]
        }
      ]
    }
  ]
}